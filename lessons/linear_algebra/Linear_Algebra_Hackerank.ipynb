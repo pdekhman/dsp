{
 "cells": [
  {
   "cell_type": "code",
   "execution_count": 2,
   "metadata": {},
   "outputs": [],
   "source": [
    "import numpy as np\n",
    "\n",
    "# Do not change these variables\n",
    "A = np.array([[1,2,3],[2,7,4]])\n",
    "B = np.array([[1,-1],[0,1]])\n",
    "C = np.array([[5,-1],[9,1],[6,0]])\n",
    "D = np.array([[3,-2,-1],[1,2,3]])\n",
    "\n",
    "u = np.array([6,2,-3,5])\n",
    "v = np.array([3,5,-1,4])"
   ]
  },
  {
   "cell_type": "code",
   "execution_count": 4,
   "metadata": {},
   "outputs": [
    {
     "data": {
      "text/plain": [
       "{'A': array([[1, 2, 3],\n",
       "        [2, 7, 4]]), 'B': array([[ 1, -1],\n",
       "        [ 0,  1]]), 'C': array([[ 5, -1],\n",
       "        [ 9,  1],\n",
       "        [ 6,  0]]), 'D': array([[ 3, -2, -1],\n",
       "        [ 1,  2,  3]]), 'u': array([ 6,  2, -3,  5]), 'v': array([ 3,  5, -1,  4])}"
      ]
     },
     "execution_count": 4,
     "metadata": {},
     "output_type": "execute_result"
    }
   ],
   "source": [
    "# Q1: record the dimensions of A, B, C, D, u, v respectively in the dict below. \n",
    "#     Do not type the answers, make python do the work\n",
    "\n",
    "dimensions = {\n",
    "    'A': A ,\n",
    "    'B': B ,\n",
    "    'C': C ,\n",
    "    'D': D ,\n",
    "    'u': u,\n",
    "    'v': v\n",
    "}\n"
   ]
  },
  {
   "cell_type": "code",
   "execution_count": 15,
   "metadata": {},
   "outputs": [],
   "source": [
    "# Q2: vector operations\n",
    "#     assign `None` if the operation is not defined\n",
    "#     do not type the answers, make python do the work\n",
    "alpha = 6\n",
    "\n",
    "u_plus_v = dimensions['u'] + dimensions['v']           # u+v\n",
    "u_minus_v = dimensions['u'] - dimensions['v']        # u-v  \n",
    "alpha_times_u =  dimensions['u']*alpha      # alpha * u, alpha = 6\n",
    "u_dot_v =      np.dot(dimensions['u'],dimensions['v'])      # u . v\n",
    "norm_u =   np.linalg.norm(dimensions['u'])            # ||u|| "
   ]
  },
  {
   "cell_type": "code",
   "execution_count": 41,
   "metadata": {},
   "outputs": [],
   "source": [
    "#Q3: compute the following and assign to variables below:\n",
    "#     assign `None` if the operation is not defined\n",
    "#     do not type the answers, make python do the work\n",
    "\n",
    "A_plus_C =    \"Not Defined\"          # A + C\n",
    "A_minus_Ctranspose = dimensions['A'] - dimensions['C'].transpose()   # A - C.T\n",
    "Ctranspose_plus_3D = dimensions['C'].transpose() + (3*dimensions['D'])   # C.T + 3*D\n",
    "B_times_A = np.matmul(dimensions['B'],dimensions['A'])            # B*A\n",
    "B_times_Atranspose = \"Not defined\"   # B*A.T"
   ]
  },
  {
   "cell_type": "code",
   "execution_count": 49,
   "metadata": {},
   "outputs": [],
   "source": [
    "# Q4: (bonus)\n",
    "\n",
    "B_times_C =   \"Not Defined\"          # B*C\n",
    "C_times_B =   np.matmul(dimensions['C'],dimensions['B'])          # C*B\n",
    "#B_exp_4 =    np.exp(dimensions['B'])        \n",
    "A_times_Atranspose = np.matmul(dimensions['A'],dimensions['A'].transpose())   # A*A.T\n",
    "Dtranspose_times_D = np.matmul(dimensions['D'].transpose(),dimensions['D'])"
   ]
  }
 ],
 "metadata": {
  "kernelspec": {
   "display_name": "Python 3",
   "language": "python",
   "name": "python3"
  },
  "language_info": {
   "codemirror_mode": {
    "name": "ipython",
    "version": 3
   },
   "file_extension": ".py",
   "mimetype": "text/x-python",
   "name": "python",
   "nbconvert_exporter": "python",
   "pygments_lexer": "ipython3",
   "version": "3.7.3"
  }
 },
 "nbformat": 4,
 "nbformat_minor": 2
}
